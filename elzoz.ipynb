{
 "cells": [
  {
   "cell_type": "code",
   "execution_count": 1,
   "metadata": {},
   "outputs": [],
   "source": [
    "import pandas as pd"
   ]
  },
  {
   "cell_type": "code",
   "execution_count": 2,
   "metadata": {},
   "outputs": [],
   "source": [
    "import numpy as np"
   ]
  },
  {
   "cell_type": "code",
   "execution_count": 3,
   "metadata": {},
   "outputs": [],
   "source": [
    "import matplotlib.pyplot as plt"
   ]
  },
  {
   "cell_type": "code",
   "execution_count": 4,
   "metadata": {},
   "outputs": [],
   "source": [
    "import seaborn as sns"
   ]
  },
  {
   "cell_type": "code",
   "execution_count": 5,
   "metadata": {},
   "outputs": [],
   "source": [
    "net= pd.read_csv('netflix.csv')"
   ]
  },
  {
   "cell_type": "code",
   "execution_count": 6,
   "metadata": {},
   "outputs": [
    {
     "data": {
      "text/html": [
       "<div>\n",
       "<style scoped>\n",
       "    .dataframe tbody tr th:only-of-type {\n",
       "        vertical-align: middle;\n",
       "    }\n",
       "\n",
       "    .dataframe tbody tr th {\n",
       "        vertical-align: top;\n",
       "    }\n",
       "\n",
       "    .dataframe thead th {\n",
       "        text-align: right;\n",
       "    }\n",
       "</style>\n",
       "<table border=\"1\" class=\"dataframe\">\n",
       "  <thead>\n",
       "    <tr style=\"text-align: right;\">\n",
       "      <th></th>\n",
       "      <th>title</th>\n",
       "      <th>genre</th>\n",
       "      <th>language</th>\n",
       "      <th>imdb_score</th>\n",
       "      <th>premiere</th>\n",
       "      <th>runtime</th>\n",
       "      <th>year</th>\n",
       "    </tr>\n",
       "  </thead>\n",
       "  <tbody>\n",
       "    <tr>\n",
       "      <th>0</th>\n",
       "      <td>Notes for My Son</td>\n",
       "      <td>Drama</td>\n",
       "      <td>Spanish</td>\n",
       "      <td>6.3</td>\n",
       "      <td>11/24/2020</td>\n",
       "      <td>83</td>\n",
       "      <td>2020</td>\n",
       "    </tr>\n",
       "    <tr>\n",
       "      <th>1</th>\n",
       "      <td>To Each, Her Own</td>\n",
       "      <td>Romantic comedy</td>\n",
       "      <td>French</td>\n",
       "      <td>5.3</td>\n",
       "      <td>6/24/2018</td>\n",
       "      <td>95</td>\n",
       "      <td>2018</td>\n",
       "    </tr>\n",
       "    <tr>\n",
       "      <th>2</th>\n",
       "      <td>The Lovebirds</td>\n",
       "      <td>Romantic comedy</td>\n",
       "      <td>English</td>\n",
       "      <td>6.1</td>\n",
       "      <td>5/22/2020</td>\n",
       "      <td>87</td>\n",
       "      <td>2020</td>\n",
       "    </tr>\n",
       "    <tr>\n",
       "      <th>3</th>\n",
       "      <td>The Perfection</td>\n",
       "      <td>Horror-thriller</td>\n",
       "      <td>English</td>\n",
       "      <td>6.1</td>\n",
       "      <td>5/24/2019</td>\n",
       "      <td>90</td>\n",
       "      <td>2019</td>\n",
       "    </tr>\n",
       "    <tr>\n",
       "      <th>4</th>\n",
       "      <td>Happy Anniversary</td>\n",
       "      <td>Romantic comedy</td>\n",
       "      <td>English</td>\n",
       "      <td>5.8</td>\n",
       "      <td>3/30/2018</td>\n",
       "      <td>78</td>\n",
       "      <td>2018</td>\n",
       "    </tr>\n",
       "    <tr>\n",
       "      <th>...</th>\n",
       "      <td>...</td>\n",
       "      <td>...</td>\n",
       "      <td>...</td>\n",
       "      <td>...</td>\n",
       "      <td>...</td>\n",
       "      <td>...</td>\n",
       "      <td>...</td>\n",
       "    </tr>\n",
       "    <tr>\n",
       "      <th>578</th>\n",
       "      <td>Rolling Thunder Revue: A bob Dylan Story by Ma...</td>\n",
       "      <td>Documentary</td>\n",
       "      <td>English</td>\n",
       "      <td>7.6</td>\n",
       "      <td>6/12/2019</td>\n",
       "      <td>144</td>\n",
       "      <td>2019</td>\n",
       "    </tr>\n",
       "    <tr>\n",
       "      <th>579</th>\n",
       "      <td>Freaks: You're One of Us</td>\n",
       "      <td>Supernatural drama</td>\n",
       "      <td>German</td>\n",
       "      <td>5.4</td>\n",
       "      <td>9/2/2020</td>\n",
       "      <td>92</td>\n",
       "      <td>2020</td>\n",
       "    </tr>\n",
       "    <tr>\n",
       "      <th>580</th>\n",
       "      <td>Squared Love</td>\n",
       "      <td>Romantic comedy</td>\n",
       "      <td>Polish</td>\n",
       "      <td>5.0</td>\n",
       "      <td>2/11/2021</td>\n",
       "      <td>102</td>\n",
       "      <td>2021</td>\n",
       "    </tr>\n",
       "    <tr>\n",
       "      <th>581</th>\n",
       "      <td>My Own Man</td>\n",
       "      <td>Documentary</td>\n",
       "      <td>English</td>\n",
       "      <td>6.4</td>\n",
       "      <td>12/13/2014</td>\n",
       "      <td>81</td>\n",
       "      <td>2014</td>\n",
       "    </tr>\n",
       "    <tr>\n",
       "      <th>582</th>\n",
       "      <td>Biggie: I Got a Story to Tell</td>\n",
       "      <td>Documentary</td>\n",
       "      <td>English</td>\n",
       "      <td>6.9</td>\n",
       "      <td>3/1/2021</td>\n",
       "      <td>97</td>\n",
       "      <td>2021</td>\n",
       "    </tr>\n",
       "  </tbody>\n",
       "</table>\n",
       "<p>583 rows × 7 columns</p>\n",
       "</div>"
      ],
      "text/plain": [
       "                                                 title               genre  \\\n",
       "0                                     Notes for My Son               Drama   \n",
       "1                                     To Each, Her Own     Romantic comedy   \n",
       "2                                        The Lovebirds     Romantic comedy   \n",
       "3                                       The Perfection     Horror-thriller   \n",
       "4                                    Happy Anniversary     Romantic comedy   \n",
       "..                                                 ...                 ...   \n",
       "578  Rolling Thunder Revue: A bob Dylan Story by Ma...         Documentary   \n",
       "579                           Freaks: You're One of Us  Supernatural drama   \n",
       "580                                       Squared Love     Romantic comedy   \n",
       "581                                         My Own Man         Documentary   \n",
       "582                      Biggie: I Got a Story to Tell         Documentary   \n",
       "\n",
       "    language  imdb_score    premiere  runtime  year  \n",
       "0    Spanish         6.3  11/24/2020       83  2020  \n",
       "1     French         5.3   6/24/2018       95  2018  \n",
       "2    English         6.1   5/22/2020       87  2020  \n",
       "3    English         6.1   5/24/2019       90  2019  \n",
       "4    English         5.8   3/30/2018       78  2018  \n",
       "..       ...         ...         ...      ...   ...  \n",
       "578  English         7.6   6/12/2019      144  2019  \n",
       "579   German         5.4    9/2/2020       92  2020  \n",
       "580   Polish         5.0   2/11/2021      102  2021  \n",
       "581  English         6.4  12/13/2014       81  2014  \n",
       "582  English         6.9    3/1/2021       97  2021  \n",
       "\n",
       "[583 rows x 7 columns]"
      ]
     },
     "execution_count": 6,
     "metadata": {},
     "output_type": "execute_result"
    }
   ],
   "source": [
    "net"
   ]
  },
  {
   "cell_type": "code",
   "execution_count": 7,
   "metadata": {},
   "outputs": [
    {
     "name": "stdout",
     "output_type": "stream",
     "text": [
      "<class 'pandas.core.frame.DataFrame'>\n",
      "RangeIndex: 583 entries, 0 to 582\n",
      "Data columns (total 7 columns):\n",
      " #   Column      Non-Null Count  Dtype  \n",
      "---  ------      --------------  -----  \n",
      " 0   title       583 non-null    object \n",
      " 1   genre       583 non-null    object \n",
      " 2   language    583 non-null    object \n",
      " 3   imdb_score  583 non-null    float64\n",
      " 4   premiere    583 non-null    object \n",
      " 5   runtime     583 non-null    int64  \n",
      " 6   year        583 non-null    int64  \n",
      "dtypes: float64(1), int64(2), object(4)\n",
      "memory usage: 32.0+ KB\n"
     ]
    }
   ],
   "source": [
    "net.info()"
   ]
  },
  {
   "cell_type": "code",
   "execution_count": 8,
   "metadata": {},
   "outputs": [],
   "source": [
    "net.premiere=net['premiere'].astype('datetime64[ns]')"
   ]
  },
  {
   "cell_type": "code",
   "execution_count": 9,
   "metadata": {},
   "outputs": [
    {
     "name": "stdout",
     "output_type": "stream",
     "text": [
      "<class 'pandas.core.frame.DataFrame'>\n",
      "RangeIndex: 583 entries, 0 to 582\n",
      "Data columns (total 7 columns):\n",
      " #   Column      Non-Null Count  Dtype         \n",
      "---  ------      --------------  -----         \n",
      " 0   title       583 non-null    object        \n",
      " 1   genre       583 non-null    object        \n",
      " 2   language    583 non-null    object        \n",
      " 3   imdb_score  583 non-null    float64       \n",
      " 4   premiere    583 non-null    datetime64[ns]\n",
      " 5   runtime     583 non-null    int64         \n",
      " 6   year        583 non-null    int64         \n",
      "dtypes: datetime64[ns](1), float64(1), int64(2), object(3)\n",
      "memory usage: 32.0+ KB\n"
     ]
    }
   ],
   "source": [
    "net.info()"
   ]
  },
  {
   "cell_type": "code",
   "execution_count": 10,
   "metadata": {},
   "outputs": [
    {
     "data": {
      "text/html": [
       "<div>\n",
       "<style scoped>\n",
       "    .dataframe tbody tr th:only-of-type {\n",
       "        vertical-align: middle;\n",
       "    }\n",
       "\n",
       "    .dataframe tbody tr th {\n",
       "        vertical-align: top;\n",
       "    }\n",
       "\n",
       "    .dataframe thead th {\n",
       "        text-align: right;\n",
       "    }\n",
       "</style>\n",
       "<table border=\"1\" class=\"dataframe\">\n",
       "  <thead>\n",
       "    <tr style=\"text-align: right;\">\n",
       "      <th></th>\n",
       "      <th>title</th>\n",
       "      <th>genre</th>\n",
       "      <th>language</th>\n",
       "      <th>imdb_score</th>\n",
       "      <th>premiere</th>\n",
       "      <th>runtime</th>\n",
       "      <th>year</th>\n",
       "    </tr>\n",
       "  </thead>\n",
       "  <tbody>\n",
       "    <tr>\n",
       "      <th>0</th>\n",
       "      <td>Notes for My Son</td>\n",
       "      <td>Drama</td>\n",
       "      <td>Spanish</td>\n",
       "      <td>6.3</td>\n",
       "      <td>2020-11-24</td>\n",
       "      <td>83</td>\n",
       "      <td>2020</td>\n",
       "    </tr>\n",
       "    <tr>\n",
       "      <th>1</th>\n",
       "      <td>To Each, Her Own</td>\n",
       "      <td>Romantic comedy</td>\n",
       "      <td>French</td>\n",
       "      <td>5.3</td>\n",
       "      <td>2018-06-24</td>\n",
       "      <td>95</td>\n",
       "      <td>2018</td>\n",
       "    </tr>\n",
       "    <tr>\n",
       "      <th>2</th>\n",
       "      <td>The Lovebirds</td>\n",
       "      <td>Romantic comedy</td>\n",
       "      <td>English</td>\n",
       "      <td>6.1</td>\n",
       "      <td>2020-05-22</td>\n",
       "      <td>87</td>\n",
       "      <td>2020</td>\n",
       "    </tr>\n",
       "    <tr>\n",
       "      <th>3</th>\n",
       "      <td>The Perfection</td>\n",
       "      <td>Horror-thriller</td>\n",
       "      <td>English</td>\n",
       "      <td>6.1</td>\n",
       "      <td>2019-05-24</td>\n",
       "      <td>90</td>\n",
       "      <td>2019</td>\n",
       "    </tr>\n",
       "    <tr>\n",
       "      <th>4</th>\n",
       "      <td>Happy Anniversary</td>\n",
       "      <td>Romantic comedy</td>\n",
       "      <td>English</td>\n",
       "      <td>5.8</td>\n",
       "      <td>2018-03-30</td>\n",
       "      <td>78</td>\n",
       "      <td>2018</td>\n",
       "    </tr>\n",
       "  </tbody>\n",
       "</table>\n",
       "</div>"
      ],
      "text/plain": [
       "               title            genre language  imdb_score   premiere  \\\n",
       "0   Notes for My Son            Drama  Spanish         6.3 2020-11-24   \n",
       "1   To Each, Her Own  Romantic comedy   French         5.3 2018-06-24   \n",
       "2      The Lovebirds  Romantic comedy  English         6.1 2020-05-22   \n",
       "3     The Perfection  Horror-thriller  English         6.1 2019-05-24   \n",
       "4  Happy Anniversary  Romantic comedy  English         5.8 2018-03-30   \n",
       "\n",
       "   runtime  year  \n",
       "0       83  2020  \n",
       "1       95  2018  \n",
       "2       87  2020  \n",
       "3       90  2019  \n",
       "4       78  2018  "
      ]
     },
     "execution_count": 10,
     "metadata": {},
     "output_type": "execute_result"
    }
   ],
   "source": [
    "net.head()"
   ]
  },
  {
   "cell_type": "code",
   "execution_count": 11,
   "metadata": {},
   "outputs": [],
   "source": [
    "net.index=net['premiere']"
   ]
  },
  {
   "cell_type": "code",
   "execution_count": 12,
   "metadata": {},
   "outputs": [],
   "source": [
    "net.drop(columns='premiere',inplace=True)"
   ]
  },
  {
   "cell_type": "markdown",
   "metadata": {},
   "source": [
    "what are the most 5 genres rating in 2021"
   ]
  },
  {
   "cell_type": "code",
   "execution_count": 13,
   "metadata": {},
   "outputs": [
    {
     "data": {
      "text/plain": [
       "<Axes: xlabel='genre'>"
      ]
     },
     "execution_count": 13,
     "metadata": {},
     "output_type": "execute_result"
    },
    {
     "data": {
      "image/png": "[encoded data removed]",
      "text/plain": [
       "<Figure size 640x480 with 1 Axes>"
      ]
     },
     "metadata": {},
     "output_type": "display_data"
    }
   ],
   "source": [
    "net2021=net[net['year']==2021]\n",
    "net2021.groupby(net2021['genre']).mean(numeric_only=True)['imdb_score'].nlargest(5).plot.bar()"
   ]
  },
  {
   "cell_type": "markdown",
   "metadata": {},
   "source": [
    "what is the most common laguages for these genres of films"
   ]
  },
  {
   "cell_type": "code",
   "execution_count": 34,
   "metadata": {},
   "outputs": [
    {
     "data": {
      "text/plain": [
       "<Axes: xlabel='language'>"
      ]
     },
     "execution_count": 34,
     "metadata": {},
     "output_type": "execute_result"
    },
    {
     "data": {
      "image/png": "[encoded data removed]",
      "text/plain": [
       "<Figure size 640x480 with 1 Axes>"
      ]
     },
     "metadata": {},
     "output_type": "display_data"
    }
   ],
   "source": [
    "net2021large=net2021[net2021['genre'].isin(['Crime drama','Animated musical comedy','Hidden-camera prank comedy','Science fiction','Drama'])]\n",
    "net2021large['language'].value_counts().plot.bar()"
   ]
  },
  {
   "cell_type": "markdown",
   "metadata": {},
   "source": []
  },
  {
   "cell_type": "markdown",
   "metadata": {},
   "source": [
    "what is the mean runtime for each language"
   ]
  },
  {
   "cell_type": "code",
   "execution_count": 15,
   "metadata": {},
   "outputs": [],
   "source": [
    "top_net2021=net2021[net2021['genre'].isin(['Crime drama','Animated musical comedy','Hidden-camera prank comedy','Science fiction','Drama'])]"
   ]
  },
  {
   "cell_type": "code",
   "execution_count": 16,
   "metadata": {},
   "outputs": [
    {
     "data": {
      "text/plain": [
       "<Axes: xlabel='language'>"
      ]
     },
     "execution_count": 16,
     "metadata": {},
     "output_type": "execute_result"
    },
    {
     "data": {
      "image/png": "[encoded data removed]",
      "text/plain": [
       "<Figure size 640x480 with 1 Axes>"
      ]
     },
     "metadata": {},
     "output_type": "display_data"
    }
   ],
   "source": [
    "top_net2021.groupby('language').mean(numeric_only=True)['runtime'].plot.bar()"
   ]
  },
  {
   "cell_type": "markdown",
   "metadata": {},
   "source": []
  },
  {
   "cell_type": "code",
   "execution_count": 17,
   "metadata": {},
   "outputs": [
    {
     "data": {
      "text/html": [
       "<div>\n",
       "<style scoped>\n",
       "    .dataframe tbody tr th:only-of-type {\n",
       "        vertical-align: middle;\n",
       "    }\n",
       "\n",
       "    .dataframe tbody tr th {\n",
       "        vertical-align: top;\n",
       "    }\n",
       "\n",
       "    .dataframe thead th {\n",
       "        text-align: right;\n",
       "    }\n",
       "</style>\n",
       "<table border=\"1\" class=\"dataframe\">\n",
       "  <thead>\n",
       "    <tr style=\"text-align: right;\">\n",
       "      <th></th>\n",
       "      <th>title</th>\n",
       "      <th>genre</th>\n",
       "      <th>language</th>\n",
       "      <th>imdb_score</th>\n",
       "      <th>runtime</th>\n",
       "      <th>year</th>\n",
       "    </tr>\n",
       "    <tr>\n",
       "      <th>premiere</th>\n",
       "      <th></th>\n",
       "      <th></th>\n",
       "      <th></th>\n",
       "      <th></th>\n",
       "      <th></th>\n",
       "      <th></th>\n",
       "    </tr>\n",
       "  </thead>\n",
       "  <tbody>\n",
       "    <tr>\n",
       "      <th>2020-11-24</th>\n",
       "      <td>Notes for My Son</td>\n",
       "      <td>Drama</td>\n",
       "      <td>Spanish</td>\n",
       "      <td>6.3</td>\n",
       "      <td>83</td>\n",
       "      <td>2020</td>\n",
       "    </tr>\n",
       "    <tr>\n",
       "      <th>2018-06-24</th>\n",
       "      <td>To Each, Her Own</td>\n",
       "      <td>Romantic comedy</td>\n",
       "      <td>French</td>\n",
       "      <td>5.3</td>\n",
       "      <td>95</td>\n",
       "      <td>2018</td>\n",
       "    </tr>\n",
       "    <tr>\n",
       "      <th>2020-05-22</th>\n",
       "      <td>The Lovebirds</td>\n",
       "      <td>Romantic comedy</td>\n",
       "      <td>English</td>\n",
       "      <td>6.1</td>\n",
       "      <td>87</td>\n",
       "      <td>2020</td>\n",
       "    </tr>\n",
       "    <tr>\n",
       "      <th>2019-05-24</th>\n",
       "      <td>The Perfection</td>\n",
       "      <td>Horror-thriller</td>\n",
       "      <td>English</td>\n",
       "      <td>6.1</td>\n",
       "      <td>90</td>\n",
       "      <td>2019</td>\n",
       "    </tr>\n",
       "    <tr>\n",
       "      <th>2018-03-30</th>\n",
       "      <td>Happy Anniversary</td>\n",
       "      <td>Romantic comedy</td>\n",
       "      <td>English</td>\n",
       "      <td>5.8</td>\n",
       "      <td>78</td>\n",
       "      <td>2018</td>\n",
       "    </tr>\n",
       "    <tr>\n",
       "      <th>...</th>\n",
       "      <td>...</td>\n",
       "      <td>...</td>\n",
       "      <td>...</td>\n",
       "      <td>...</td>\n",
       "      <td>...</td>\n",
       "      <td>...</td>\n",
       "    </tr>\n",
       "    <tr>\n",
       "      <th>2019-06-12</th>\n",
       "      <td>Rolling Thunder Revue: A bob Dylan Story by Ma...</td>\n",
       "      <td>Documentary</td>\n",
       "      <td>English</td>\n",
       "      <td>7.6</td>\n",
       "      <td>144</td>\n",
       "      <td>2019</td>\n",
       "    </tr>\n",
       "    <tr>\n",
       "      <th>2020-09-02</th>\n",
       "      <td>Freaks: You're One of Us</td>\n",
       "      <td>Supernatural drama</td>\n",
       "      <td>German</td>\n",
       "      <td>5.4</td>\n",
       "      <td>92</td>\n",
       "      <td>2020</td>\n",
       "    </tr>\n",
       "    <tr>\n",
       "      <th>2021-02-11</th>\n",
       "      <td>Squared Love</td>\n",
       "      <td>Romantic comedy</td>\n",
       "      <td>Polish</td>\n",
       "      <td>5.0</td>\n",
       "      <td>102</td>\n",
       "      <td>2021</td>\n",
       "    </tr>\n",
       "    <tr>\n",
       "      <th>2014-12-13</th>\n",
       "      <td>My Own Man</td>\n",
       "      <td>Documentary</td>\n",
       "      <td>English</td>\n",
       "      <td>6.4</td>\n",
       "      <td>81</td>\n",
       "      <td>2014</td>\n",
       "    </tr>\n",
       "    <tr>\n",
       "      <th>2021-03-01</th>\n",
       "      <td>Biggie: I Got a Story to Tell</td>\n",
       "      <td>Documentary</td>\n",
       "      <td>English</td>\n",
       "      <td>6.9</td>\n",
       "      <td>97</td>\n",
       "      <td>2021</td>\n",
       "    </tr>\n",
       "  </tbody>\n",
       "</table>\n",
       "<p>583 rows × 6 columns</p>\n",
       "</div>"
      ],
      "text/plain": [
       "                                                        title  \\\n",
       "premiere                                                        \n",
       "2020-11-24                                   Notes for My Son   \n",
       "2018-06-24                                   To Each, Her Own   \n",
       "2020-05-22                                      The Lovebirds   \n",
       "2019-05-24                                     The Perfection   \n",
       "2018-03-30                                  Happy Anniversary   \n",
       "...                                                       ...   \n",
       "2019-06-12  Rolling Thunder Revue: A bob Dylan Story by Ma...   \n",
       "2020-09-02                           Freaks: You're One of Us   \n",
       "2021-02-11                                       Squared Love   \n",
       "2014-12-13                                         My Own Man   \n",
       "2021-03-01                      Biggie: I Got a Story to Tell   \n",
       "\n",
       "                         genre language  imdb_score  runtime  year  \n",
       "premiere                                                            \n",
       "2020-11-24               Drama  Spanish         6.3       83  2020  \n",
       "2018-06-24     Romantic comedy   French         5.3       95  2018  \n",
       "2020-05-22     Romantic comedy  English         6.1       87  2020  \n",
       "2019-05-24     Horror-thriller  English         6.1       90  2019  \n",
       "2018-03-30     Romantic comedy  English         5.8       78  2018  \n",
       "...                        ...      ...         ...      ...   ...  \n",
       "2019-06-12         Documentary  English         7.6      144  2019  \n",
       "2020-09-02  Supernatural drama   German         5.4       92  2020  \n",
       "2021-02-11     Romantic comedy   Polish         5.0      102  2021  \n",
       "2014-12-13         Documentary  English         6.4       81  2014  \n",
       "2021-03-01         Documentary  English         6.9       97  2021  \n",
       "\n",
       "[583 rows x 6 columns]"
      ]
     },
     "execution_count": 17,
     "metadata": {},
     "output_type": "execute_result"
    }
   ],
   "source": [
    "net"
   ]
  },
  {
   "cell_type": "code",
   "execution_count": 18,
   "metadata": {},
   "outputs": [
    {
     "data": {
      "text/plain": [
       "<matplotlib.collections.PathCollection at 0x1b71eb59ed0>"
      ]
     },
     "execution_count": 18,
     "metadata": {},
     "output_type": "execute_result"
    },
    {
     "data": {
      "image/png": "[encoded data removed]",
      "text/plain": [
       "<Figure size 640x480 with 1 Axes>"
      ]
     },
     "metadata": {},
     "output_type": "display_data"
    }
   ],
   "source": [
    "plt.scatter(net.index,net['imdb_score'])"
   ]
  },
  {
   "cell_type": "markdown",
   "metadata": {},
   "source": []
  },
  {
   "cell_type": "markdown",
   "metadata": {},
   "source": [
    "what are the least genre films in 2021"
   ]
  },
  {
   "cell_type": "markdown",
   "metadata": {},
   "source": []
  },
  {
   "cell_type": "code",
   "execution_count": 21,
   "metadata": {},
   "outputs": [
    {
     "data": {
      "text/html": [
       "<div>\n",
       "<style scoped>\n",
       "    .dataframe tbody tr th:only-of-type {\n",
       "        vertical-align: middle;\n",
       "    }\n",
       "\n",
       "    .dataframe tbody tr th {\n",
       "        vertical-align: top;\n",
       "    }\n",
       "\n",
       "    .dataframe thead th {\n",
       "        text-align: right;\n",
       "    }\n",
       "</style>\n",
       "<table border=\"1\" class=\"dataframe\">\n",
       "  <thead>\n",
       "    <tr style=\"text-align: right;\">\n",
       "      <th></th>\n",
       "      <th>title</th>\n",
       "      <th>genre</th>\n",
       "      <th>language</th>\n",
       "      <th>imdb_score</th>\n",
       "      <th>runtime</th>\n",
       "      <th>year</th>\n",
       "    </tr>\n",
       "    <tr>\n",
       "      <th>premiere</th>\n",
       "      <th></th>\n",
       "      <th></th>\n",
       "      <th></th>\n",
       "      <th></th>\n",
       "      <th></th>\n",
       "      <th></th>\n",
       "    </tr>\n",
       "  </thead>\n",
       "  <tbody>\n",
       "    <tr>\n",
       "      <th>2021-04-14</th>\n",
       "      <td>Why Did You Kill Me?</td>\n",
       "      <td>Documentary</td>\n",
       "      <td>English</td>\n",
       "      <td>5.6</td>\n",
       "      <td>83</td>\n",
       "      <td>2021</td>\n",
       "    </tr>\n",
       "    <tr>\n",
       "      <th>2021-01-07</th>\n",
       "      <td>Pieces of a Woman</td>\n",
       "      <td>Drama</td>\n",
       "      <td>English</td>\n",
       "      <td>7.1</td>\n",
       "      <td>126</td>\n",
       "      <td>2021</td>\n",
       "    </tr>\n",
       "    <tr>\n",
       "      <th>2021-02-26</th>\n",
       "      <td>Crazy About Her</td>\n",
       "      <td>Romantic comedy</td>\n",
       "      <td>Spanish</td>\n",
       "      <td>6.6</td>\n",
       "      <td>102</td>\n",
       "      <td>2021</td>\n",
       "    </tr>\n",
       "    <tr>\n",
       "      <th>2021-04-09</th>\n",
       "      <td>Night in Paradise</td>\n",
       "      <td>Drama</td>\n",
       "      <td>Korean</td>\n",
       "      <td>6.7</td>\n",
       "      <td>132</td>\n",
       "      <td>2021</td>\n",
       "    </tr>\n",
       "    <tr>\n",
       "      <th>2021-05-14</th>\n",
       "      <td>I Am All Girls</td>\n",
       "      <td>Thriller</td>\n",
       "      <td>English</td>\n",
       "      <td>5.8</td>\n",
       "      <td>107</td>\n",
       "      <td>2021</td>\n",
       "    </tr>\n",
       "    <tr>\n",
       "      <th>...</th>\n",
       "      <td>...</td>\n",
       "      <td>...</td>\n",
       "      <td>...</td>\n",
       "      <td>...</td>\n",
       "      <td>...</td>\n",
       "      <td>...</td>\n",
       "    </tr>\n",
       "    <tr>\n",
       "      <th>2021-01-29</th>\n",
       "      <td>Finding 'Ohana</td>\n",
       "      <td>Family</td>\n",
       "      <td>English</td>\n",
       "      <td>6.1</td>\n",
       "      <td>123</td>\n",
       "      <td>2021</td>\n",
       "    </tr>\n",
       "    <tr>\n",
       "      <th>2021-03-12</th>\n",
       "      <td>Yes Day</td>\n",
       "      <td>Comedy</td>\n",
       "      <td>English</td>\n",
       "      <td>5.7</td>\n",
       "      <td>86</td>\n",
       "      <td>2021</td>\n",
       "    </tr>\n",
       "    <tr>\n",
       "      <th>2021-04-09</th>\n",
       "      <td>Thunder Force</td>\n",
       "      <td>Superhero-Comedy</td>\n",
       "      <td>English</td>\n",
       "      <td>4.4</td>\n",
       "      <td>105</td>\n",
       "      <td>2021</td>\n",
       "    </tr>\n",
       "    <tr>\n",
       "      <th>2021-02-11</th>\n",
       "      <td>Squared Love</td>\n",
       "      <td>Romantic comedy</td>\n",
       "      <td>Polish</td>\n",
       "      <td>5.0</td>\n",
       "      <td>102</td>\n",
       "      <td>2021</td>\n",
       "    </tr>\n",
       "    <tr>\n",
       "      <th>2021-03-01</th>\n",
       "      <td>Biggie: I Got a Story to Tell</td>\n",
       "      <td>Documentary</td>\n",
       "      <td>English</td>\n",
       "      <td>6.9</td>\n",
       "      <td>97</td>\n",
       "      <td>2021</td>\n",
       "    </tr>\n",
       "  </tbody>\n",
       "</table>\n",
       "<p>71 rows × 6 columns</p>\n",
       "</div>"
      ],
      "text/plain": [
       "                                    title             genre language  \\\n",
       "premiere                                                               \n",
       "2021-04-14           Why Did You Kill Me?       Documentary  English   \n",
       "2021-01-07              Pieces of a Woman             Drama  English   \n",
       "2021-02-26                Crazy About Her   Romantic comedy  Spanish   \n",
       "2021-04-09              Night in Paradise             Drama   Korean   \n",
       "2021-05-14                 I Am All Girls          Thriller  English   \n",
       "...                                   ...               ...      ...   \n",
       "2021-01-29                 Finding 'Ohana            Family  English   \n",
       "2021-03-12                        Yes Day            Comedy  English   \n",
       "2021-04-09                  Thunder Force  Superhero-Comedy  English   \n",
       "2021-02-11                   Squared Love   Romantic comedy   Polish   \n",
       "2021-03-01  Biggie: I Got a Story to Tell       Documentary  English   \n",
       "\n",
       "            imdb_score  runtime  year  \n",
       "premiere                               \n",
       "2021-04-14         5.6       83  2021  \n",
       "2021-01-07         7.1      126  2021  \n",
       "2021-02-26         6.6      102  2021  \n",
       "2021-04-09         6.7      132  2021  \n",
       "2021-05-14         5.8      107  2021  \n",
       "...                ...      ...   ...  \n",
       "2021-01-29         6.1      123  2021  \n",
       "2021-03-12         5.7       86  2021  \n",
       "2021-04-09         4.4      105  2021  \n",
       "2021-02-11         5.0      102  2021  \n",
       "2021-03-01         6.9       97  2021  \n",
       "\n",
       "[71 rows x 6 columns]"
      ]
     },
     "execution_count": 21,
     "metadata": {},
     "output_type": "execute_result"
    }
   ],
   "source": [
    "net_least2021=net.loc['2021']\n",
    "net_least2021"
   ]
  },
  {
   "cell_type": "code",
   "execution_count": 24,
   "metadata": {},
   "outputs": [
    {
     "data": {
      "text/plain": [
       "<Axes: xlabel='genre'>"
      ]
     },
     "execution_count": 24,
     "metadata": {},
     "output_type": "execute_result"
    },
    {
     "data": {
      "image/png": "[encoded data removed]",
      "text/plain": [
       "<Figure size 640x480 with 1 Axes>"
      ]
     },
     "metadata": {},
     "output_type": "display_data"
    }
   ],
   "source": [
    "net_least2021.groupby('genre').mean(numeric_only=True)['imdb_score'].nsmallest(5).plot.bar()"
   ]
  },
  {
   "cell_type": "markdown",
   "metadata": {},
   "source": [
    "what are the languages of these films"
   ]
  },
  {
   "cell_type": "code",
   "execution_count": 26,
   "metadata": {},
   "outputs": [],
   "source": [
    "nn=net_least2021.groupby('genre').mean(numeric_only=True)['imdb_score'].nsmallest(5)"
   ]
  },
  {
   "cell_type": "code",
   "execution_count": 27,
   "metadata": {},
   "outputs": [
    {
     "data": {
      "text/plain": [
       "Index(['Superhero-Comedy', 'Action', 'Comedy', 'Horror', 'Thriller'], dtype='object', name='genre')"
      ]
     },
     "execution_count": 27,
     "metadata": {},
     "output_type": "execute_result"
    }
   ],
   "source": [
    "nn.index"
   ]
  },
  {
   "cell_type": "code",
   "execution_count": 29,
   "metadata": {},
   "outputs": [
    {
     "data": {
      "text/plain": [
       "<Axes: xlabel='language'>"
      ]
     },
     "execution_count": 29,
     "metadata": {},
     "output_type": "execute_result"
    },
    {
     "data": {
      "image/png": "[encoded data removed]",
      "text/plain": [
       "<Figure size 640x480 with 1 Axes>"
      ]
     },
     "metadata": {},
     "output_type": "display_data"
    }
   ],
   "source": [
    "net_least2021[net_least2021['genre'].isin(nn.index)]['language'].value_counts().plot.bar()"
   ]
  },
  {
   "cell_type": "markdown",
   "metadata": {},
   "source": []
  },
  {
   "cell_type": "markdown",
   "metadata": {},
   "source": [
    "plot runtime vs rating"
   ]
  },
  {
   "cell_type": "code",
   "execution_count": 30,
   "metadata": {},
   "outputs": [
    {
     "name": "stderr",
     "output_type": "stream",
     "text": [
      "C:\\Users\\HP\\AppData\\Local\\Temp\\ipykernel_24312\\2305072216.py:1: SettingWithCopyWarning: \n",
      "A value is trying to be set on a copy of a slice from a DataFrame.\n",
      "Try using .loc[row_indexer,col_indexer] = value instead\n",
      "\n",
      "See the caveats in the documentation: https://pandas.pydata.org/pandas-docs/stable/user_guide/indexing.html#returning-a-view-versus-a-copy\n",
      "  net2021['runtimescaled']=(net2021['runtime']-net2021['runtime'].mean())/net2021['runtime'].std()\n"
     ]
    }
   ],
   "source": [
    "net2021['runtimescaled']=(net2021['runtime']-net2021['runtime'].mean())/net2021['runtime'].std()"
   ]
  },
  {
   "cell_type": "code",
   "execution_count": 31,
   "metadata": {},
   "outputs": [
    {
     "data": {
      "text/html": [
       "<div>\n",
       "<style scoped>\n",
       "    .dataframe tbody tr th:only-of-type {\n",
       "        vertical-align: middle;\n",
       "    }\n",
       "\n",
       "    .dataframe tbody tr th {\n",
       "        vertical-align: top;\n",
       "    }\n",
       "\n",
       "    .dataframe thead th {\n",
       "        text-align: right;\n",
       "    }\n",
       "</style>\n",
       "<table border=\"1\" class=\"dataframe\">\n",
       "  <thead>\n",
       "    <tr style=\"text-align: right;\">\n",
       "      <th></th>\n",
       "      <th>title</th>\n",
       "      <th>genre</th>\n",
       "      <th>language</th>\n",
       "      <th>imdb_score</th>\n",
       "      <th>runtime</th>\n",
       "      <th>year</th>\n",
       "      <th>runtimescaled</th>\n",
       "    </tr>\n",
       "    <tr>\n",
       "      <th>premiere</th>\n",
       "      <th></th>\n",
       "      <th></th>\n",
       "      <th></th>\n",
       "      <th></th>\n",
       "      <th></th>\n",
       "      <th></th>\n",
       "      <th></th>\n",
       "    </tr>\n",
       "  </thead>\n",
       "  <tbody>\n",
       "    <tr>\n",
       "      <th>2021-04-14</th>\n",
       "      <td>Why Did You Kill Me?</td>\n",
       "      <td>Documentary</td>\n",
       "      <td>English</td>\n",
       "      <td>5.6</td>\n",
       "      <td>83</td>\n",
       "      <td>2021</td>\n",
       "      <td>-0.830045</td>\n",
       "    </tr>\n",
       "    <tr>\n",
       "      <th>2021-01-07</th>\n",
       "      <td>Pieces of a Woman</td>\n",
       "      <td>Drama</td>\n",
       "      <td>English</td>\n",
       "      <td>7.1</td>\n",
       "      <td>126</td>\n",
       "      <td>2021</td>\n",
       "      <td>1.088295</td>\n",
       "    </tr>\n",
       "    <tr>\n",
       "      <th>2021-02-26</th>\n",
       "      <td>Crazy About Her</td>\n",
       "      <td>Romantic comedy</td>\n",
       "      <td>Spanish</td>\n",
       "      <td>6.6</td>\n",
       "      <td>102</td>\n",
       "      <td>2021</td>\n",
       "      <td>0.017594</td>\n",
       "    </tr>\n",
       "    <tr>\n",
       "      <th>2021-04-09</th>\n",
       "      <td>Night in Paradise</td>\n",
       "      <td>Drama</td>\n",
       "      <td>Korean</td>\n",
       "      <td>6.7</td>\n",
       "      <td>132</td>\n",
       "      <td>2021</td>\n",
       "      <td>1.355970</td>\n",
       "    </tr>\n",
       "    <tr>\n",
       "      <th>2021-05-14</th>\n",
       "      <td>I Am All Girls</td>\n",
       "      <td>Thriller</td>\n",
       "      <td>English</td>\n",
       "      <td>5.8</td>\n",
       "      <td>107</td>\n",
       "      <td>2021</td>\n",
       "      <td>0.240656</td>\n",
       "    </tr>\n",
       "    <tr>\n",
       "      <th>...</th>\n",
       "      <td>...</td>\n",
       "      <td>...</td>\n",
       "      <td>...</td>\n",
       "      <td>...</td>\n",
       "      <td>...</td>\n",
       "      <td>...</td>\n",
       "      <td>...</td>\n",
       "    </tr>\n",
       "    <tr>\n",
       "      <th>2021-01-29</th>\n",
       "      <td>Finding 'Ohana</td>\n",
       "      <td>Family</td>\n",
       "      <td>English</td>\n",
       "      <td>6.1</td>\n",
       "      <td>123</td>\n",
       "      <td>2021</td>\n",
       "      <td>0.954457</td>\n",
       "    </tr>\n",
       "    <tr>\n",
       "      <th>2021-03-12</th>\n",
       "      <td>Yes Day</td>\n",
       "      <td>Comedy</td>\n",
       "      <td>English</td>\n",
       "      <td>5.7</td>\n",
       "      <td>86</td>\n",
       "      <td>2021</td>\n",
       "      <td>-0.696207</td>\n",
       "    </tr>\n",
       "    <tr>\n",
       "      <th>2021-04-09</th>\n",
       "      <td>Thunder Force</td>\n",
       "      <td>Superhero-Comedy</td>\n",
       "      <td>English</td>\n",
       "      <td>4.4</td>\n",
       "      <td>105</td>\n",
       "      <td>2021</td>\n",
       "      <td>0.151431</td>\n",
       "    </tr>\n",
       "    <tr>\n",
       "      <th>2021-02-11</th>\n",
       "      <td>Squared Love</td>\n",
       "      <td>Romantic comedy</td>\n",
       "      <td>Polish</td>\n",
       "      <td>5.0</td>\n",
       "      <td>102</td>\n",
       "      <td>2021</td>\n",
       "      <td>0.017594</td>\n",
       "    </tr>\n",
       "    <tr>\n",
       "      <th>2021-03-01</th>\n",
       "      <td>Biggie: I Got a Story to Tell</td>\n",
       "      <td>Documentary</td>\n",
       "      <td>English</td>\n",
       "      <td>6.9</td>\n",
       "      <td>97</td>\n",
       "      <td>2021</td>\n",
       "      <td>-0.205469</td>\n",
       "    </tr>\n",
       "  </tbody>\n",
       "</table>\n",
       "<p>71 rows × 7 columns</p>\n",
       "</div>"
      ],
      "text/plain": [
       "                                    title             genre language  \\\n",
       "premiere                                                               \n",
       "2021-04-14           Why Did You Kill Me?       Documentary  English   \n",
       "2021-01-07              Pieces of a Woman             Drama  English   \n",
       "2021-02-26                Crazy About Her   Romantic comedy  Spanish   \n",
       "2021-04-09              Night in Paradise             Drama   Korean   \n",
       "2021-05-14                 I Am All Girls          Thriller  English   \n",
       "...                                   ...               ...      ...   \n",
       "2021-01-29                 Finding 'Ohana            Family  English   \n",
       "2021-03-12                        Yes Day            Comedy  English   \n",
       "2021-04-09                  Thunder Force  Superhero-Comedy  English   \n",
       "2021-02-11                   Squared Love   Romantic comedy   Polish   \n",
       "2021-03-01  Biggie: I Got a Story to Tell       Documentary  English   \n",
       "\n",
       "            imdb_score  runtime  year  runtimescaled  \n",
       "premiere                                              \n",
       "2021-04-14         5.6       83  2021      -0.830045  \n",
       "2021-01-07         7.1      126  2021       1.088295  \n",
       "2021-02-26         6.6      102  2021       0.017594  \n",
       "2021-04-09         6.7      132  2021       1.355970  \n",
       "2021-05-14         5.8      107  2021       0.240656  \n",
       "...                ...      ...   ...            ...  \n",
       "2021-01-29         6.1      123  2021       0.954457  \n",
       "2021-03-12         5.7       86  2021      -0.696207  \n",
       "2021-04-09         4.4      105  2021       0.151431  \n",
       "2021-02-11         5.0      102  2021       0.017594  \n",
       "2021-03-01         6.9       97  2021      -0.205469  \n",
       "\n",
       "[71 rows x 7 columns]"
      ]
     },
     "execution_count": 31,
     "metadata": {},
     "output_type": "execute_result"
    }
   ],
   "source": [
    "net2021"
   ]
  },
  {
   "cell_type": "code",
   "execution_count": 32,
   "metadata": {},
   "outputs": [
    {
     "name": "stderr",
     "output_type": "stream",
     "text": [
      "C:\\Users\\HP\\AppData\\Local\\Temp\\ipykernel_24312\\1431827666.py:1: SettingWithCopyWarning: \n",
      "A value is trying to be set on a copy of a slice from a DataFrame.\n",
      "Try using .loc[row_indexer,col_indexer] = value instead\n",
      "\n",
      "See the caveats in the documentation: https://pandas.pydata.org/pandas-docs/stable/user_guide/indexing.html#returning-a-view-versus-a-copy\n",
      "  net2021['imdb_scorescaled']=(net2021['imdb_score']-net2021['imdb_score'].mean())/net2021['imdb_score'].std()\n"
     ]
    }
   ],
   "source": [
    "net2021['imdb_scorescaled']=(net2021['imdb_score']-net2021['imdb_score'].mean())/net2021['imdb_score'].std()"
   ]
  },
  {
   "cell_type": "code",
   "execution_count": 40,
   "metadata": {},
   "outputs": [
    {
     "data": {
      "text/plain": [
       "<seaborn.axisgrid.JointGrid at 0x1b71ffa2350>"
      ]
     },
     "execution_count": 40,
     "metadata": {},
     "output_type": "execute_result"
    },
    {
     "data": {
      "image/png": "[encoded data removed]",
      "text/plain": [
       "<Figure size 600x600 with 3 Axes>"
      ]
     },
     "metadata": {},
     "output_type": "display_data"
    }
   ],
   "source": [
    "sns.jointplot(x='runtimescaled',y='imdb_scorescaled',data=net2021large,kind='reg')"
   ]
  },
  {
   "cell_type": "code",
   "execution_count": null,
   "metadata": {},
   "outputs": [],
   "source": []
  }
 ],
 "metadata": {
  "kernelspec": {
   "display_name": "Python 3",
   "language": "python",
   "name": "python3"
  },
  "language_info": {
   "codemirror_mode": {
    "name": "ipython",
    "version": 3
   },
   "file_extension": ".py",
   "mimetype": "text/x-python",
   "name": "python",
   "nbconvert_exporter": "python",
   "pygments_lexer": "ipython3",
   "version": "3.11.9"
  }
 },
 "nbformat": 4,
 "nbformat_minor": 2
}
